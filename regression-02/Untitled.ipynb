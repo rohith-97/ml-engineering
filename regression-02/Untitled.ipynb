{
 "cells": [
  {
   "cell_type": "markdown",
   "id": "ca734203-bb7f-484b-86eb-d12ce942541e",
   "metadata": {},
   "source": [
    "## Homework 2"
   ]
  },
  {
   "cell_type": "code",
   "execution_count": 1,
   "id": "a5ac9c99-807b-4222-8bb7-8a77ff84e68a",
   "metadata": {},
   "outputs": [],
   "source": [
    "import pandas as pd\n",
    "import numpy as np\n",
    "from sklearn.linear_model import LinearRegression, Ridge\n",
    "from sklearn.metrics import mean_squared_error"
   ]
  },
  {
   "cell_type": "code",
   "execution_count": 2,
   "id": "3b1ab432-c32f-4d8c-9753-9805b9cfc8e6",
   "metadata": {},
   "outputs": [],
   "source": [
    "# Load the dataset\n",
    "url = \"https://raw.githubusercontent.com/alexeygrigorev/datasets/master/car_fuel_efficiency.csv\"\n",
    "df = pd.read_csv(url)"
   ]
  },
  {
   "cell_type": "code",
   "execution_count": 4,
   "id": "a40daede-a88b-4436-aca9-013848c184f9",
   "metadata": {},
   "outputs": [],
   "source": [
    "# Use the specified columns\n",
    "columns = ['engine_displacement', 'horsepower', 'vehicle_weight', 'model_year', 'fuel_efficiency_mpg']\n",
    "df = df[columns]"
   ]
  },
  {
   "cell_type": "code",
   "execution_count": 5,
   "id": "6334baf9-f330-4888-ae4c-ef36ca13a36f",
   "metadata": {},
   "outputs": [
    {
     "name": "stdout",
     "output_type": "stream",
     "text": [
      "Question 1: horsepower\n"
     ]
    }
   ],
   "source": [
    "# Question 1: Identify column with missing values\n",
    "missing_col = df.isnull().sum()\n",
    "missing_col = missing_col[missing_col > 0].index[0]\n",
    "print(f\"Question 1: {missing_col}\")"
   ]
  },
  {
   "cell_type": "code",
   "execution_count": 6,
   "id": "6d802b44-ecae-4d0f-8cf4-e072f1060702",
   "metadata": {},
   "outputs": [
    {
     "name": "stdout",
     "output_type": "stream",
     "text": [
      "Question 2: 149\n"
     ]
    }
   ],
   "source": [
    "# Question 2: Median of horsepower\n",
    "horsepower_median = df['horsepower'].median()\n",
    "options = [49, 99, 149, 199]\n",
    "closest_option = min(options, key=lambda x: abs(x - horsepower_median))\n",
    "print(f\"Question 2: {closest_option}\")"
   ]
  },
  {
   "cell_type": "code",
   "execution_count": 7,
   "id": "cd1cbe5b-1cf0-40b5-9324-e551bdcd37cd",
   "metadata": {},
   "outputs": [],
   "source": [
    "# Prepare and split the dataset\n",
    "def prepare_data(df, fill_method='zero', train_mean=None):\n",
    "    df_copy = df.copy()\n",
    "\n",
    "    if fill_method == 'zero':\n",
    "        df_copy['horsepower'] = df_copy['horsepower'].fillna(0)\n",
    "    elif fill_method == 'mean':\n",
    "        if train_mean is not None:\n",
    "            df_copy['horsepower'] = df_copy['horsepower'].fillna(train_mean)\n",
    "        else:\n",
    "            df_copy['horsepower'] = df_copy['horsepower'].fillna(df_copy['horsepower'].mean())\n",
    "\n",
    "    return df_copy"
   ]
  },
  {
   "cell_type": "code",
   "execution_count": 8,
   "id": "21feb205-dc1b-46dd-ab24-3ee71f6af4ae",
   "metadata": {},
   "outputs": [],
   "source": [
    "def split_data(df, seed=42):\n",
    "    np.random.seed(seed)\n",
    "    n = len(df)\n",
    "    n_val = int(0.2 * n)\n",
    "    n_test = int(0.2 * n)\n",
    "    n_train = n - n_val - n_test\n",
    "\n",
    "    idx = np.arange(n)\n",
    "    np.random.shuffle(idx)\n",
    "\n",
    "    df_train = df.iloc[idx[:n_train]]\n",
    "    df_val = df.iloc[idx[n_train:n_train+n_val]]\n",
    "    df_test = df.iloc[idx[n_train+n_val:]]\n",
    "\n",
    "    return df_train, df_val, df_test"
   ]
  },
  {
   "cell_type": "code",
   "execution_count": 9,
   "id": "74d28c68-f550-43aa-9e8f-98f91c85b949",
   "metadata": {},
   "outputs": [],
   "source": [
    "def prepare_X_y(df):\n",
    "    X = df.drop('fuel_efficiency_mpg', axis=1).values\n",
    "    y = df['fuel_efficiency_mpg'].values\n",
    "    return X, y"
   ]
  },
  {
   "cell_type": "code",
   "execution_count": 10,
   "id": "23cdae45-5267-4067-89e8-5d4e8780be9a",
   "metadata": {},
   "outputs": [],
   "source": [
    "# Split the data\n",
    "df_train, df_val, df_test = split_data(df, seed=42)"
   ]
  },
  {
   "cell_type": "markdown",
   "id": "92bc6aa2-aa27-4ac4-ba55-d456e6df46d9",
   "metadata": {},
   "source": [
    "##### Question 3: Compare filling missing values with 0 vs mean"
   ]
  },
  {
   "cell_type": "code",
   "execution_count": 12,
   "id": "b86852c7-1e85-45fa-a34c-d714b7b38ede",
   "metadata": {},
   "outputs": [],
   "source": [
    "# Fill with 0\n",
    "df_train_zero = prepare_data(df_train, 'zero')\n",
    "df_val_zero = prepare_data(df_val, 'zero')\n",
    "X_train_zero, y_train_zero = prepare_X_y(df_train_zero)\n",
    "X_val_zero, y_val_zero = prepare_X_y(df_val_zero)"
   ]
  },
  {
   "cell_type": "code",
   "execution_count": 13,
   "id": "0c6996f9-c454-451f-bef3-982df809d73a",
   "metadata": {},
   "outputs": [],
   "source": [
    "# Fill with mean\n",
    "train_horsepower_mean = df_train['horsepower'].mean()\n",
    "df_train_mean = prepare_data(df_train, 'mean', train_horsepower_mean)\n",
    "df_val_mean = prepare_data(df_val, 'mean', train_horsepower_mean)\n",
    "X_train_mean, y_train_mean = prepare_X_y(df_train_mean)\n",
    "X_val_mean, y_val_mean = prepare_X_y(df_val_mean)"
   ]
  },
  {
   "cell_type": "code",
   "execution_count": 14,
   "id": "4d9c1c92-e5e8-4d6f-8d2b-bc2a2d713ea1",
   "metadata": {},
   "outputs": [],
   "source": [
    "# Train models\n",
    "model_zero = LinearRegression()\n",
    "model_zero.fit(X_train_zero, y_train_zero)\n",
    "y_pred_zero = model_zero.predict(X_val_zero)\n",
    "rmse_zero = np.sqrt(mean_squared_error(y_val_zero, y_pred_zero))\n",
    "\n",
    "model_mean = LinearRegression()\n",
    "model_mean.fit(X_train_mean, y_train_mean)\n",
    "y_pred_mean = model_mean.predict(X_val_mean)\n",
    "rmse_mean = np.sqrt(mean_squared_error(y_val_mean, y_pred_mean))"
   ]
  },
  {
   "cell_type": "code",
   "execution_count": 15,
   "id": "c234902a-87c5-464a-8ac1-2dac105e8470",
   "metadata": {},
   "outputs": [
    {
     "name": "stdout",
     "output_type": "stream",
     "text": [
      "Question 3: With mean\n"
     ]
    }
   ],
   "source": [
    "if rmse_zero < rmse_mean:\n",
    "    answer_3 = \"With 0\"\n",
    "else:\n",
    "    answer_3 = \"With mean\"\n",
    "\n",
    "print(f\"Question 3: {answer_3}\")"
   ]
  },
  {
   "cell_type": "markdown",
   "id": "7c301be7-8f27-4946-944e-6bbcf60d5011",
   "metadata": {},
   "source": [
    "##### Question 4: Regularized linear regression"
   ]
  },
  {
   "cell_type": "code",
   "execution_count": 17,
   "id": "1136c1ef-09c9-476d-9805-4e3290c795eb",
   "metadata": {},
   "outputs": [],
   "source": [
    "r_values = [0, 0.01, 0.1, 1, 5, 10, 100]\n",
    "rmse_scores = []"
   ]
  },
  {
   "cell_type": "code",
   "execution_count": 18,
   "id": "cc865a44-f429-416a-aa8e-1bec7b87b733",
   "metadata": {},
   "outputs": [],
   "source": [
    "for r in r_values:\n",
    "    model = Ridge(alpha=r)\n",
    "    model.fit(X_train_zero, y_train_zero)\n",
    "    y_pred = model.predict(X_val_zero)\n",
    "    rmse = np.sqrt(mean_squared_error(y_val_zero, y_pred))\n",
    "    rmse_scores.append(rmse)"
   ]
  },
  {
   "cell_type": "code",
   "execution_count": 19,
   "id": "62b743c1-9463-49d0-bf18-1e8b8765324b",
   "metadata": {},
   "outputs": [
    {
     "name": "stdout",
     "output_type": "stream",
     "text": [
      "Question 4: 0\n"
     ]
    }
   ],
   "source": [
    "best_r = r_values[np.argmin(rmse_scores)]\n",
    "print(f\"Question 4: {best_r}\")"
   ]
  },
  {
   "cell_type": "markdown",
   "id": "d1f64830-cd46-4be6-bb2d-655061cf3d9f",
   "metadata": {},
   "source": [
    "##### Question 5: Test different seeds"
   ]
  },
  {
   "cell_type": "code",
   "execution_count": 20,
   "id": "208b1942-9e32-4994-ae32-f1b769c353a3",
   "metadata": {},
   "outputs": [],
   "source": [
    "seeds = [0, 1, 2, 3, 4, 5, 6, 7, 8, 9]\n",
    "rmse_scores_seeds = []"
   ]
  },
  {
   "cell_type": "code",
   "execution_count": 21,
   "id": "41c2ff5d-e119-410c-8a1e-f9a3bf20b78a",
   "metadata": {},
   "outputs": [],
   "source": [
    "for seed in seeds:\n",
    "    df_train_seed, df_val_seed, df_test_seed = split_data(df, seed=seed)\n",
    "    df_train_seed_zero = prepare_data(df_train_seed, 'zero')\n",
    "    df_val_seed_zero = prepare_data(df_val_seed, 'zero')\n",
    "    X_train_seed, y_train_seed = prepare_X_y(df_train_seed_zero)\n",
    "    X_val_seed, y_val_seed = prepare_X_y(df_val_seed_zero)\n",
    "\n",
    "    model_seed = LinearRegression()\n",
    "    model_seed.fit(X_train_seed, y_train_seed)\n",
    "    y_pred_seed = model_seed.predict(X_val_seed)\n",
    "    rmse_seed = np.sqrt(mean_squared_error(y_val_seed, y_pred_seed))\n",
    "    rmse_scores_seeds.append(rmse_seed)"
   ]
  },
  {
   "cell_type": "code",
   "execution_count": 22,
   "id": "7d46ce63-245d-44e5-9605-bce914d5e3a0",
   "metadata": {},
   "outputs": [
    {
     "name": "stdout",
     "output_type": "stream",
     "text": [
      "Question 5: 0.006\n"
     ]
    }
   ],
   "source": [
    "std_rmse = np.std(rmse_scores_seeds)\n",
    "std_options = [0.001, 0.006, 0.060, 0.600]\n",
    "closest_std = min(std_options, key=lambda x: abs(x - std_rmse))\n",
    "print(f\"Question 5: {closest_std}\")"
   ]
  },
  {
   "cell_type": "markdown",
   "id": "521a5242-adab-439c-8d80-48ee23dc7717",
   "metadata": {},
   "source": [
    "##### Question 6: Final test with r=0.001"
   ]
  },
  {
   "cell_type": "code",
   "execution_count": 23,
   "id": "bda68230-b6ec-4d2b-859b-c5ee10ba3c6e",
   "metadata": {},
   "outputs": [],
   "source": [
    "df_train_q6, df_val_q6, df_test_q6 = split_data(df, seed=9)\n",
    "df_combined = pd.concat([df_train_q6, df_val_q6])\n",
    "df_combined_zero = prepare_data(df_combined, 'zero')\n",
    "df_test_q6_zero = prepare_data(df_test_q6, 'zero')\n",
    "X_combined, y_combined = prepare_X_y(df_combined_zero)\n",
    "X_test_q6, y_test_q6 = prepare_X_y(df_test_q6_zero)"
   ]
  },
  {
   "cell_type": "code",
   "execution_count": 24,
   "id": "f735b20e-df24-4184-8718-a0b3cba058f1",
   "metadata": {},
   "outputs": [],
   "source": [
    "model_q6 = Ridge(alpha=0.001)\n",
    "model_q6.fit(X_combined, y_combined)\n",
    "y_pred_q6 = model_q6.predict(X_test_q6)\n",
    "rmse_q6 = np.sqrt(mean_squared_error(y_test_q6, y_pred_q6))"
   ]
  },
  {
   "cell_type": "code",
   "execution_count": 25,
   "id": "f5c45988-1b3e-451f-9b70-0132e19441bc",
   "metadata": {},
   "outputs": [
    {
     "name": "stdout",
     "output_type": "stream",
     "text": [
      "Question 6: 0.515\n"
     ]
    }
   ],
   "source": [
    "q6_options = [0.15, 0.515, 5.15, 51.5]\n",
    "closest_q6 = min(q6_options, key=lambda x: abs(x - rmse_q6))\n",
    "print(f\"Question 6: {closest_q6}\")"
   ]
  },
  {
   "cell_type": "code",
   "execution_count": null,
   "id": "d2b0981f-7323-47cc-b9f5-65479e17c476",
   "metadata": {},
   "outputs": [],
   "source": []
  }
 ],
 "metadata": {
  "kernelspec": {
   "display_name": "Python 3 (ipykernel)",
   "language": "python",
   "name": "python3"
  },
  "language_info": {
   "codemirror_mode": {
    "name": "ipython",
    "version": 3
   },
   "file_extension": ".py",
   "mimetype": "text/x-python",
   "name": "python",
   "nbconvert_exporter": "python",
   "pygments_lexer": "ipython3",
   "version": "3.12.1"
  }
 },
 "nbformat": 4,
 "nbformat_minor": 5
}
